{
 "cells": [
  {
   "cell_type": "markdown",
   "id": "35adc7a7",
   "metadata": {},
   "source": [
    "# Exploratory Data Analysis"
   ]
  },
  {
   "cell_type": "code",
   "execution_count": 1,
   "id": "1cf34671",
   "metadata": {},
   "outputs": [],
   "source": [
    "#Importing libraries"
   ]
  },
  {
   "cell_type": "code",
   "execution_count": 2,
   "id": "e17de426",
   "metadata": {},
   "outputs": [],
   "source": [
    "import pandas as pd\n",
    "import numpy as np\n",
    "import matplotlib.pyplot as plt\n",
    "import seaborn as sns\n",
    "sns.set_style('darkgrid')\n",
    "import warnings\n",
    "warnings.filterwarnings(\"ignore\")\n",
    "%matplotlib inline "
   ]
  },
  {
   "cell_type": "code",
   "execution_count": 3,
   "id": "3e2e5485",
   "metadata": {},
   "outputs": [],
   "source": [
    "#Loading our dataset"
   ]
  },
  {
   "cell_type": "code",
   "execution_count": 4,
   "id": "6900e119",
   "metadata": {},
   "outputs": [],
   "source": [
    "df = pd.read_csv('specimenDate_ageDemographic-unstacked.csv',parse_dates=['date'])"
   ]
  },
  {
   "cell_type": "code",
   "execution_count": null,
   "id": "f640cb27",
   "metadata": {},
   "outputs": [],
   "source": [
    "#The first 5 data of the dataframe"
   ]
  },
  {
   "cell_type": "code",
   "execution_count": 7,
   "id": "870a6602",
   "metadata": {},
   "outputs": [
    {
     "data": {
      "text/html": [
       "<div>\n",
       "<style scoped>\n",
       "    .dataframe tbody tr th:only-of-type {\n",
       "        vertical-align: middle;\n",
       "    }\n",
       "\n",
       "    .dataframe tbody tr th {\n",
       "        vertical-align: top;\n",
       "    }\n",
       "\n",
       "    .dataframe thead th {\n",
       "        text-align: right;\n",
       "    }\n",
       "</style>\n",
       "<table border=\"1\" class=\"dataframe\">\n",
       "  <thead>\n",
       "    <tr style=\"text-align: right;\">\n",
       "      <th></th>\n",
       "      <th>areaType</th>\n",
       "      <th>areaCode</th>\n",
       "      <th>areaName</th>\n",
       "      <th>date</th>\n",
       "      <th>newCasesBySpecimenDate-0_4</th>\n",
       "      <th>newCasesBySpecimenDate-0_59</th>\n",
       "      <th>newCasesBySpecimenDate-10_14</th>\n",
       "      <th>newCasesBySpecimenDate-15_19</th>\n",
       "      <th>newCasesBySpecimenDate-20_24</th>\n",
       "      <th>newCasesBySpecimenDate-25_29</th>\n",
       "      <th>...</th>\n",
       "      <th>newCasesBySpecimenDateRollingSum-5_9</th>\n",
       "      <th>newCasesBySpecimenDateRollingSum-60+</th>\n",
       "      <th>newCasesBySpecimenDateRollingSum-60_64</th>\n",
       "      <th>newCasesBySpecimenDateRollingSum-65_69</th>\n",
       "      <th>newCasesBySpecimenDateRollingSum-70_74</th>\n",
       "      <th>newCasesBySpecimenDateRollingSum-75_79</th>\n",
       "      <th>newCasesBySpecimenDateRollingSum-80_84</th>\n",
       "      <th>newCasesBySpecimenDateRollingSum-85_89</th>\n",
       "      <th>newCasesBySpecimenDateRollingSum-90+</th>\n",
       "      <th>newCasesBySpecimenDateRollingSum-unassigned</th>\n",
       "    </tr>\n",
       "  </thead>\n",
       "  <tbody>\n",
       "    <tr>\n",
       "      <th>0</th>\n",
       "      <td>ltla</td>\n",
       "      <td>E06000001</td>\n",
       "      <td>Hartlepool</td>\n",
       "      <td>2020-03-16</td>\n",
       "      <td>0</td>\n",
       "      <td>0</td>\n",
       "      <td>0</td>\n",
       "      <td>0</td>\n",
       "      <td>0</td>\n",
       "      <td>0</td>\n",
       "      <td>...</td>\n",
       "      <td>0</td>\n",
       "      <td>0</td>\n",
       "      <td>0</td>\n",
       "      <td>0</td>\n",
       "      <td>0</td>\n",
       "      <td>0</td>\n",
       "      <td>0</td>\n",
       "      <td>0</td>\n",
       "      <td>0</td>\n",
       "      <td>0</td>\n",
       "    </tr>\n",
       "    <tr>\n",
       "      <th>1</th>\n",
       "      <td>ltla</td>\n",
       "      <td>E06000001</td>\n",
       "      <td>Hartlepool</td>\n",
       "      <td>2020-03-17</td>\n",
       "      <td>0</td>\n",
       "      <td>0</td>\n",
       "      <td>0</td>\n",
       "      <td>0</td>\n",
       "      <td>0</td>\n",
       "      <td>0</td>\n",
       "      <td>...</td>\n",
       "      <td>0</td>\n",
       "      <td>0</td>\n",
       "      <td>0</td>\n",
       "      <td>0</td>\n",
       "      <td>0</td>\n",
       "      <td>0</td>\n",
       "      <td>0</td>\n",
       "      <td>0</td>\n",
       "      <td>0</td>\n",
       "      <td>0</td>\n",
       "    </tr>\n",
       "    <tr>\n",
       "      <th>2</th>\n",
       "      <td>ltla</td>\n",
       "      <td>E06000001</td>\n",
       "      <td>Hartlepool</td>\n",
       "      <td>2020-03-18</td>\n",
       "      <td>0</td>\n",
       "      <td>0</td>\n",
       "      <td>0</td>\n",
       "      <td>0</td>\n",
       "      <td>0</td>\n",
       "      <td>0</td>\n",
       "      <td>...</td>\n",
       "      <td>0</td>\n",
       "      <td>0</td>\n",
       "      <td>0</td>\n",
       "      <td>0</td>\n",
       "      <td>0</td>\n",
       "      <td>0</td>\n",
       "      <td>0</td>\n",
       "      <td>0</td>\n",
       "      <td>0</td>\n",
       "      <td>0</td>\n",
       "    </tr>\n",
       "    <tr>\n",
       "      <th>3</th>\n",
       "      <td>ltla</td>\n",
       "      <td>E06000001</td>\n",
       "      <td>Hartlepool</td>\n",
       "      <td>2020-03-19</td>\n",
       "      <td>0</td>\n",
       "      <td>0</td>\n",
       "      <td>0</td>\n",
       "      <td>0</td>\n",
       "      <td>0</td>\n",
       "      <td>0</td>\n",
       "      <td>...</td>\n",
       "      <td>0</td>\n",
       "      <td>0</td>\n",
       "      <td>0</td>\n",
       "      <td>0</td>\n",
       "      <td>0</td>\n",
       "      <td>0</td>\n",
       "      <td>0</td>\n",
       "      <td>0</td>\n",
       "      <td>0</td>\n",
       "      <td>0</td>\n",
       "    </tr>\n",
       "    <tr>\n",
       "      <th>4</th>\n",
       "      <td>ltla</td>\n",
       "      <td>E06000001</td>\n",
       "      <td>Hartlepool</td>\n",
       "      <td>2020-03-20</td>\n",
       "      <td>0</td>\n",
       "      <td>0</td>\n",
       "      <td>0</td>\n",
       "      <td>0</td>\n",
       "      <td>0</td>\n",
       "      <td>0</td>\n",
       "      <td>...</td>\n",
       "      <td>0</td>\n",
       "      <td>0</td>\n",
       "      <td>0</td>\n",
       "      <td>0</td>\n",
       "      <td>0</td>\n",
       "      <td>0</td>\n",
       "      <td>0</td>\n",
       "      <td>0</td>\n",
       "      <td>0</td>\n",
       "      <td>0</td>\n",
       "    </tr>\n",
       "  </tbody>\n",
       "</table>\n",
       "<p>5 rows × 69 columns</p>\n",
       "</div>"
      ],
      "text/plain": [
       "  areaType   areaCode    areaName       date  newCasesBySpecimenDate-0_4  \\\n",
       "0     ltla  E06000001  Hartlepool 2020-03-16                           0   \n",
       "1     ltla  E06000001  Hartlepool 2020-03-17                           0   \n",
       "2     ltla  E06000001  Hartlepool 2020-03-18                           0   \n",
       "3     ltla  E06000001  Hartlepool 2020-03-19                           0   \n",
       "4     ltla  E06000001  Hartlepool 2020-03-20                           0   \n",
       "\n",
       "   newCasesBySpecimenDate-0_59  newCasesBySpecimenDate-10_14  \\\n",
       "0                            0                             0   \n",
       "1                            0                             0   \n",
       "2                            0                             0   \n",
       "3                            0                             0   \n",
       "4                            0                             0   \n",
       "\n",
       "   newCasesBySpecimenDate-15_19  newCasesBySpecimenDate-20_24  \\\n",
       "0                             0                             0   \n",
       "1                             0                             0   \n",
       "2                             0                             0   \n",
       "3                             0                             0   \n",
       "4                             0                             0   \n",
       "\n",
       "   newCasesBySpecimenDate-25_29  ...  newCasesBySpecimenDateRollingSum-5_9  \\\n",
       "0                             0  ...                                     0   \n",
       "1                             0  ...                                     0   \n",
       "2                             0  ...                                     0   \n",
       "3                             0  ...                                     0   \n",
       "4                             0  ...                                     0   \n",
       "\n",
       "   newCasesBySpecimenDateRollingSum-60+  \\\n",
       "0                                     0   \n",
       "1                                     0   \n",
       "2                                     0   \n",
       "3                                     0   \n",
       "4                                     0   \n",
       "\n",
       "   newCasesBySpecimenDateRollingSum-60_64  \\\n",
       "0                                       0   \n",
       "1                                       0   \n",
       "2                                       0   \n",
       "3                                       0   \n",
       "4                                       0   \n",
       "\n",
       "   newCasesBySpecimenDateRollingSum-65_69  \\\n",
       "0                                       0   \n",
       "1                                       0   \n",
       "2                                       0   \n",
       "3                                       0   \n",
       "4                                       0   \n",
       "\n",
       "   newCasesBySpecimenDateRollingSum-70_74  \\\n",
       "0                                       0   \n",
       "1                                       0   \n",
       "2                                       0   \n",
       "3                                       0   \n",
       "4                                       0   \n",
       "\n",
       "   newCasesBySpecimenDateRollingSum-75_79  \\\n",
       "0                                       0   \n",
       "1                                       0   \n",
       "2                                       0   \n",
       "3                                       0   \n",
       "4                                       0   \n",
       "\n",
       "   newCasesBySpecimenDateRollingSum-80_84  \\\n",
       "0                                       0   \n",
       "1                                       0   \n",
       "2                                       0   \n",
       "3                                       0   \n",
       "4                                       0   \n",
       "\n",
       "   newCasesBySpecimenDateRollingSum-85_89  \\\n",
       "0                                       0   \n",
       "1                                       0   \n",
       "2                                       0   \n",
       "3                                       0   \n",
       "4                                       0   \n",
       "\n",
       "   newCasesBySpecimenDateRollingSum-90+  \\\n",
       "0                                     0   \n",
       "1                                     0   \n",
       "2                                     0   \n",
       "3                                     0   \n",
       "4                                     0   \n",
       "\n",
       "   newCasesBySpecimenDateRollingSum-unassigned  \n",
       "0                                            0  \n",
       "1                                            0  \n",
       "2                                            0  \n",
       "3                                            0  \n",
       "4                                            0  \n",
       "\n",
       "[5 rows x 69 columns]"
      ]
     },
     "execution_count": 7,
     "metadata": {},
     "output_type": "execute_result"
    }
   ],
   "source": [
    "df.head()"
   ]
  },
  {
   "cell_type": "code",
   "execution_count": 8,
   "id": "94a45b22",
   "metadata": {},
   "outputs": [],
   "source": [
    "#The last 5 data of the dataframe"
   ]
  },
  {
   "cell_type": "code",
   "execution_count": 9,
   "id": "28a82bff",
   "metadata": {},
   "outputs": [
    {
     "data": {
      "text/html": [
       "<div>\n",
       "<style scoped>\n",
       "    .dataframe tbody tr th:only-of-type {\n",
       "        vertical-align: middle;\n",
       "    }\n",
       "\n",
       "    .dataframe tbody tr th {\n",
       "        vertical-align: top;\n",
       "    }\n",
       "\n",
       "    .dataframe thead th {\n",
       "        text-align: right;\n",
       "    }\n",
       "</style>\n",
       "<table border=\"1\" class=\"dataframe\">\n",
       "  <thead>\n",
       "    <tr style=\"text-align: right;\">\n",
       "      <th></th>\n",
       "      <th>areaType</th>\n",
       "      <th>areaCode</th>\n",
       "      <th>areaName</th>\n",
       "      <th>date</th>\n",
       "      <th>newCasesBySpecimenDate-0_4</th>\n",
       "      <th>newCasesBySpecimenDate-0_59</th>\n",
       "      <th>newCasesBySpecimenDate-10_14</th>\n",
       "      <th>newCasesBySpecimenDate-15_19</th>\n",
       "      <th>newCasesBySpecimenDate-20_24</th>\n",
       "      <th>newCasesBySpecimenDate-25_29</th>\n",
       "      <th>...</th>\n",
       "      <th>newCasesBySpecimenDateRollingSum-5_9</th>\n",
       "      <th>newCasesBySpecimenDateRollingSum-60+</th>\n",
       "      <th>newCasesBySpecimenDateRollingSum-60_64</th>\n",
       "      <th>newCasesBySpecimenDateRollingSum-65_69</th>\n",
       "      <th>newCasesBySpecimenDateRollingSum-70_74</th>\n",
       "      <th>newCasesBySpecimenDateRollingSum-75_79</th>\n",
       "      <th>newCasesBySpecimenDateRollingSum-80_84</th>\n",
       "      <th>newCasesBySpecimenDateRollingSum-85_89</th>\n",
       "      <th>newCasesBySpecimenDateRollingSum-90+</th>\n",
       "      <th>newCasesBySpecimenDateRollingSum-unassigned</th>\n",
       "    </tr>\n",
       "  </thead>\n",
       "  <tbody>\n",
       "    <tr>\n",
       "      <th>115022</th>\n",
       "      <td>utla</td>\n",
       "      <td>E10000034</td>\n",
       "      <td>Worcestershire</td>\n",
       "      <td>2020-10-28</td>\n",
       "      <td>2</td>\n",
       "      <td>136</td>\n",
       "      <td>3</td>\n",
       "      <td>23</td>\n",
       "      <td>12</td>\n",
       "      <td>15</td>\n",
       "      <td>...</td>\n",
       "      <td>12</td>\n",
       "      <td>165</td>\n",
       "      <td>63</td>\n",
       "      <td>32</td>\n",
       "      <td>24</td>\n",
       "      <td>14</td>\n",
       "      <td>11</td>\n",
       "      <td>11</td>\n",
       "      <td>10</td>\n",
       "      <td>17</td>\n",
       "    </tr>\n",
       "    <tr>\n",
       "      <th>115023</th>\n",
       "      <td>utla</td>\n",
       "      <td>E10000034</td>\n",
       "      <td>Worcestershire</td>\n",
       "      <td>2020-10-29</td>\n",
       "      <td>4</td>\n",
       "      <td>137</td>\n",
       "      <td>6</td>\n",
       "      <td>6</td>\n",
       "      <td>12</td>\n",
       "      <td>13</td>\n",
       "      <td>...</td>\n",
       "      <td>12</td>\n",
       "      <td>167</td>\n",
       "      <td>64</td>\n",
       "      <td>32</td>\n",
       "      <td>27</td>\n",
       "      <td>11</td>\n",
       "      <td>12</td>\n",
       "      <td>11</td>\n",
       "      <td>10</td>\n",
       "      <td>16</td>\n",
       "    </tr>\n",
       "    <tr>\n",
       "      <th>115024</th>\n",
       "      <td>utla</td>\n",
       "      <td>E10000034</td>\n",
       "      <td>Worcestershire</td>\n",
       "      <td>2020-10-30</td>\n",
       "      <td>4</td>\n",
       "      <td>129</td>\n",
       "      <td>6</td>\n",
       "      <td>12</td>\n",
       "      <td>16</td>\n",
       "      <td>10</td>\n",
       "      <td>...</td>\n",
       "      <td>14</td>\n",
       "      <td>179</td>\n",
       "      <td>65</td>\n",
       "      <td>31</td>\n",
       "      <td>28</td>\n",
       "      <td>17</td>\n",
       "      <td>15</td>\n",
       "      <td>12</td>\n",
       "      <td>11</td>\n",
       "      <td>17</td>\n",
       "    </tr>\n",
       "    <tr>\n",
       "      <th>115025</th>\n",
       "      <td>utla</td>\n",
       "      <td>E10000034</td>\n",
       "      <td>Worcestershire</td>\n",
       "      <td>2020-10-31</td>\n",
       "      <td>6</td>\n",
       "      <td>108</td>\n",
       "      <td>7</td>\n",
       "      <td>14</td>\n",
       "      <td>8</td>\n",
       "      <td>13</td>\n",
       "      <td>...</td>\n",
       "      <td>14</td>\n",
       "      <td>185</td>\n",
       "      <td>62</td>\n",
       "      <td>34</td>\n",
       "      <td>32</td>\n",
       "      <td>18</td>\n",
       "      <td>16</td>\n",
       "      <td>12</td>\n",
       "      <td>11</td>\n",
       "      <td>16</td>\n",
       "    </tr>\n",
       "    <tr>\n",
       "      <th>115026</th>\n",
       "      <td>utla</td>\n",
       "      <td>E10000034</td>\n",
       "      <td>Worcestershire</td>\n",
       "      <td>2020-11-01</td>\n",
       "      <td>3</td>\n",
       "      <td>90</td>\n",
       "      <td>3</td>\n",
       "      <td>5</td>\n",
       "      <td>8</td>\n",
       "      <td>7</td>\n",
       "      <td>...</td>\n",
       "      <td>13</td>\n",
       "      <td>189</td>\n",
       "      <td>62</td>\n",
       "      <td>36</td>\n",
       "      <td>33</td>\n",
       "      <td>20</td>\n",
       "      <td>16</td>\n",
       "      <td>12</td>\n",
       "      <td>10</td>\n",
       "      <td>14</td>\n",
       "    </tr>\n",
       "  </tbody>\n",
       "</table>\n",
       "<p>5 rows × 69 columns</p>\n",
       "</div>"
      ],
      "text/plain": [
       "       areaType   areaCode        areaName       date  \\\n",
       "115022     utla  E10000034  Worcestershire 2020-10-28   \n",
       "115023     utla  E10000034  Worcestershire 2020-10-29   \n",
       "115024     utla  E10000034  Worcestershire 2020-10-30   \n",
       "115025     utla  E10000034  Worcestershire 2020-10-31   \n",
       "115026     utla  E10000034  Worcestershire 2020-11-01   \n",
       "\n",
       "        newCasesBySpecimenDate-0_4  newCasesBySpecimenDate-0_59  \\\n",
       "115022                           2                          136   \n",
       "115023                           4                          137   \n",
       "115024                           4                          129   \n",
       "115025                           6                          108   \n",
       "115026                           3                           90   \n",
       "\n",
       "        newCasesBySpecimenDate-10_14  newCasesBySpecimenDate-15_19  \\\n",
       "115022                             3                            23   \n",
       "115023                             6                             6   \n",
       "115024                             6                            12   \n",
       "115025                             7                            14   \n",
       "115026                             3                             5   \n",
       "\n",
       "        newCasesBySpecimenDate-20_24  newCasesBySpecimenDate-25_29  ...  \\\n",
       "115022                            12                            15  ...   \n",
       "115023                            12                            13  ...   \n",
       "115024                            16                            10  ...   \n",
       "115025                             8                            13  ...   \n",
       "115026                             8                             7  ...   \n",
       "\n",
       "        newCasesBySpecimenDateRollingSum-5_9  \\\n",
       "115022                                    12   \n",
       "115023                                    12   \n",
       "115024                                    14   \n",
       "115025                                    14   \n",
       "115026                                    13   \n",
       "\n",
       "        newCasesBySpecimenDateRollingSum-60+  \\\n",
       "115022                                   165   \n",
       "115023                                   167   \n",
       "115024                                   179   \n",
       "115025                                   185   \n",
       "115026                                   189   \n",
       "\n",
       "        newCasesBySpecimenDateRollingSum-60_64  \\\n",
       "115022                                      63   \n",
       "115023                                      64   \n",
       "115024                                      65   \n",
       "115025                                      62   \n",
       "115026                                      62   \n",
       "\n",
       "        newCasesBySpecimenDateRollingSum-65_69  \\\n",
       "115022                                      32   \n",
       "115023                                      32   \n",
       "115024                                      31   \n",
       "115025                                      34   \n",
       "115026                                      36   \n",
       "\n",
       "        newCasesBySpecimenDateRollingSum-70_74  \\\n",
       "115022                                      24   \n",
       "115023                                      27   \n",
       "115024                                      28   \n",
       "115025                                      32   \n",
       "115026                                      33   \n",
       "\n",
       "        newCasesBySpecimenDateRollingSum-75_79  \\\n",
       "115022                                      14   \n",
       "115023                                      11   \n",
       "115024                                      17   \n",
       "115025                                      18   \n",
       "115026                                      20   \n",
       "\n",
       "        newCasesBySpecimenDateRollingSum-80_84  \\\n",
       "115022                                      11   \n",
       "115023                                      12   \n",
       "115024                                      15   \n",
       "115025                                      16   \n",
       "115026                                      16   \n",
       "\n",
       "        newCasesBySpecimenDateRollingSum-85_89  \\\n",
       "115022                                      11   \n",
       "115023                                      11   \n",
       "115024                                      12   \n",
       "115025                                      12   \n",
       "115026                                      12   \n",
       "\n",
       "        newCasesBySpecimenDateRollingSum-90+  \\\n",
       "115022                                    10   \n",
       "115023                                    10   \n",
       "115024                                    11   \n",
       "115025                                    11   \n",
       "115026                                    10   \n",
       "\n",
       "        newCasesBySpecimenDateRollingSum-unassigned  \n",
       "115022                                           17  \n",
       "115023                                           16  \n",
       "115024                                           17  \n",
       "115025                                           16  \n",
       "115026                                           14  \n",
       "\n",
       "[5 rows x 69 columns]"
      ]
     },
     "execution_count": 9,
     "metadata": {},
     "output_type": "execute_result"
    }
   ],
   "source": [
    "df.tail(5)"
   ]
  },
  {
   "cell_type": "code",
   "execution_count": 10,
   "id": "e0d4b719",
   "metadata": {},
   "outputs": [],
   "source": [
    "#Viewing the columns in the dataset"
   ]
  },
  {
   "cell_type": "code",
   "execution_count": 11,
   "id": "ec9c3254",
   "metadata": {},
   "outputs": [
    {
     "data": {
      "text/plain": [
       "Index(['areaType', 'areaCode', 'areaName', 'date',\n",
       "       'newCasesBySpecimenDate-0_4', 'newCasesBySpecimenDate-0_59',\n",
       "       'newCasesBySpecimenDate-10_14', 'newCasesBySpecimenDate-15_19',\n",
       "       'newCasesBySpecimenDate-20_24', 'newCasesBySpecimenDate-25_29',\n",
       "       'newCasesBySpecimenDate-30_34', 'newCasesBySpecimenDate-35_39',\n",
       "       'newCasesBySpecimenDate-40_44', 'newCasesBySpecimenDate-45_49',\n",
       "       'newCasesBySpecimenDate-50_54', 'newCasesBySpecimenDate-55_59',\n",
       "       'newCasesBySpecimenDate-5_9', 'newCasesBySpecimenDate-60+',\n",
       "       'newCasesBySpecimenDate-60_64', 'newCasesBySpecimenDate-65_69',\n",
       "       'newCasesBySpecimenDate-70_74', 'newCasesBySpecimenDate-75_79',\n",
       "       'newCasesBySpecimenDate-80_84', 'newCasesBySpecimenDate-85_89',\n",
       "       'newCasesBySpecimenDate-90+', 'newCasesBySpecimenDate-unassigned',\n",
       "       'newCasesBySpecimenDateRollingRate-0_4',\n",
       "       'newCasesBySpecimenDateRollingRate-0_59',\n",
       "       'newCasesBySpecimenDateRollingRate-10_14',\n",
       "       'newCasesBySpecimenDateRollingRate-15_19',\n",
       "       'newCasesBySpecimenDateRollingRate-20_24',\n",
       "       'newCasesBySpecimenDateRollingRate-25_29',\n",
       "       'newCasesBySpecimenDateRollingRate-30_34',\n",
       "       'newCasesBySpecimenDateRollingRate-35_39',\n",
       "       'newCasesBySpecimenDateRollingRate-40_44',\n",
       "       'newCasesBySpecimenDateRollingRate-45_49',\n",
       "       'newCasesBySpecimenDateRollingRate-50_54',\n",
       "       'newCasesBySpecimenDateRollingRate-55_59',\n",
       "       'newCasesBySpecimenDateRollingRate-5_9',\n",
       "       'newCasesBySpecimenDateRollingRate-60+',\n",
       "       'newCasesBySpecimenDateRollingRate-60_64',\n",
       "       'newCasesBySpecimenDateRollingRate-65_69',\n",
       "       'newCasesBySpecimenDateRollingRate-70_74',\n",
       "       'newCasesBySpecimenDateRollingRate-75_79',\n",
       "       'newCasesBySpecimenDateRollingRate-80_84',\n",
       "       'newCasesBySpecimenDateRollingRate-85_89',\n",
       "       'newCasesBySpecimenDateRollingRate-90+',\n",
       "       'newCasesBySpecimenDateRollingSum-0_4',\n",
       "       'newCasesBySpecimenDateRollingSum-0_59',\n",
       "       'newCasesBySpecimenDateRollingSum-10_14',\n",
       "       'newCasesBySpecimenDateRollingSum-15_19',\n",
       "       'newCasesBySpecimenDateRollingSum-20_24',\n",
       "       'newCasesBySpecimenDateRollingSum-25_29',\n",
       "       'newCasesBySpecimenDateRollingSum-30_34',\n",
       "       'newCasesBySpecimenDateRollingSum-35_39',\n",
       "       'newCasesBySpecimenDateRollingSum-40_44',\n",
       "       'newCasesBySpecimenDateRollingSum-45_49',\n",
       "       'newCasesBySpecimenDateRollingSum-50_54',\n",
       "       'newCasesBySpecimenDateRollingSum-55_59',\n",
       "       'newCasesBySpecimenDateRollingSum-5_9',\n",
       "       'newCasesBySpecimenDateRollingSum-60+',\n",
       "       'newCasesBySpecimenDateRollingSum-60_64',\n",
       "       'newCasesBySpecimenDateRollingSum-65_69',\n",
       "       'newCasesBySpecimenDateRollingSum-70_74',\n",
       "       'newCasesBySpecimenDateRollingSum-75_79',\n",
       "       'newCasesBySpecimenDateRollingSum-80_84',\n",
       "       'newCasesBySpecimenDateRollingSum-85_89',\n",
       "       'newCasesBySpecimenDateRollingSum-90+',\n",
       "       'newCasesBySpecimenDateRollingSum-unassigned'],\n",
       "      dtype='object')"
      ]
     },
     "execution_count": 11,
     "metadata": {},
     "output_type": "execute_result"
    }
   ],
   "source": [
    "df.columns"
   ]
  },
  {
   "cell_type": "code",
   "execution_count": 12,
   "id": "99ae940c",
   "metadata": {},
   "outputs": [
    {
     "name": "stdout",
     "output_type": "stream",
     "text": [
      "<class 'pandas.core.frame.DataFrame'>\n",
      "RangeIndex: 115027 entries, 0 to 115026\n",
      "Data columns (total 69 columns):\n",
      " #   Column                                       Non-Null Count   Dtype         \n",
      "---  ------                                       --------------   -----         \n",
      " 0   areaType                                     115027 non-null  object        \n",
      " 1   areaCode                                     115027 non-null  object        \n",
      " 2   areaName                                     115027 non-null  object        \n",
      " 3   date                                         115027 non-null  datetime64[ns]\n",
      " 4   newCasesBySpecimenDate-0_4                   115027 non-null  int64         \n",
      " 5   newCasesBySpecimenDate-0_59                  115027 non-null  int64         \n",
      " 6   newCasesBySpecimenDate-10_14                 115027 non-null  int64         \n",
      " 7   newCasesBySpecimenDate-15_19                 115027 non-null  int64         \n",
      " 8   newCasesBySpecimenDate-20_24                 115027 non-null  int64         \n",
      " 9   newCasesBySpecimenDate-25_29                 115027 non-null  int64         \n",
      " 10  newCasesBySpecimenDate-30_34                 115027 non-null  int64         \n",
      " 11  newCasesBySpecimenDate-35_39                 115027 non-null  int64         \n",
      " 12  newCasesBySpecimenDate-40_44                 115027 non-null  int64         \n",
      " 13  newCasesBySpecimenDate-45_49                 115027 non-null  int64         \n",
      " 14  newCasesBySpecimenDate-50_54                 115027 non-null  int64         \n",
      " 15  newCasesBySpecimenDate-55_59                 115027 non-null  int64         \n",
      " 16  newCasesBySpecimenDate-5_9                   115027 non-null  int64         \n",
      " 17  newCasesBySpecimenDate-60+                   115027 non-null  int64         \n",
      " 18  newCasesBySpecimenDate-60_64                 115027 non-null  int64         \n",
      " 19  newCasesBySpecimenDate-65_69                 115027 non-null  int64         \n",
      " 20  newCasesBySpecimenDate-70_74                 115027 non-null  int64         \n",
      " 21  newCasesBySpecimenDate-75_79                 115027 non-null  int64         \n",
      " 22  newCasesBySpecimenDate-80_84                 115027 non-null  int64         \n",
      " 23  newCasesBySpecimenDate-85_89                 115027 non-null  int64         \n",
      " 24  newCasesBySpecimenDate-90+                   115027 non-null  int64         \n",
      " 25  newCasesBySpecimenDate-unassigned            115027 non-null  int64         \n",
      " 26  newCasesBySpecimenDateRollingRate-0_4        115027 non-null  float64       \n",
      " 27  newCasesBySpecimenDateRollingRate-0_59       115027 non-null  float64       \n",
      " 28  newCasesBySpecimenDateRollingRate-10_14      115027 non-null  float64       \n",
      " 29  newCasesBySpecimenDateRollingRate-15_19      115027 non-null  float64       \n",
      " 30  newCasesBySpecimenDateRollingRate-20_24      115027 non-null  float64       \n",
      " 31  newCasesBySpecimenDateRollingRate-25_29      115027 non-null  float64       \n",
      " 32  newCasesBySpecimenDateRollingRate-30_34      115027 non-null  float64       \n",
      " 33  newCasesBySpecimenDateRollingRate-35_39      115027 non-null  float64       \n",
      " 34  newCasesBySpecimenDateRollingRate-40_44      115027 non-null  float64       \n",
      " 35  newCasesBySpecimenDateRollingRate-45_49      115027 non-null  float64       \n",
      " 36  newCasesBySpecimenDateRollingRate-50_54      115027 non-null  float64       \n",
      " 37  newCasesBySpecimenDateRollingRate-55_59      115027 non-null  float64       \n",
      " 38  newCasesBySpecimenDateRollingRate-5_9        115027 non-null  float64       \n",
      " 39  newCasesBySpecimenDateRollingRate-60+        115027 non-null  float64       \n",
      " 40  newCasesBySpecimenDateRollingRate-60_64      115027 non-null  float64       \n",
      " 41  newCasesBySpecimenDateRollingRate-65_69      115027 non-null  float64       \n",
      " 42  newCasesBySpecimenDateRollingRate-70_74      115027 non-null  float64       \n",
      " 43  newCasesBySpecimenDateRollingRate-75_79      115027 non-null  float64       \n",
      " 44  newCasesBySpecimenDateRollingRate-80_84      115027 non-null  float64       \n",
      " 45  newCasesBySpecimenDateRollingRate-85_89      115027 non-null  float64       \n",
      " 46  newCasesBySpecimenDateRollingRate-90+        115027 non-null  float64       \n",
      " 47  newCasesBySpecimenDateRollingSum-0_4         115027 non-null  int64         \n",
      " 48  newCasesBySpecimenDateRollingSum-0_59        115027 non-null  int64         \n",
      " 49  newCasesBySpecimenDateRollingSum-10_14       115027 non-null  int64         \n",
      " 50  newCasesBySpecimenDateRollingSum-15_19       115027 non-null  int64         \n",
      " 51  newCasesBySpecimenDateRollingSum-20_24       115027 non-null  int64         \n",
      " 52  newCasesBySpecimenDateRollingSum-25_29       115027 non-null  int64         \n",
      " 53  newCasesBySpecimenDateRollingSum-30_34       115027 non-null  int64         \n",
      " 54  newCasesBySpecimenDateRollingSum-35_39       115027 non-null  int64         \n",
      " 55  newCasesBySpecimenDateRollingSum-40_44       115027 non-null  int64         \n",
      " 56  newCasesBySpecimenDateRollingSum-45_49       115027 non-null  int64         \n",
      " 57  newCasesBySpecimenDateRollingSum-50_54       115027 non-null  int64         \n",
      " 58  newCasesBySpecimenDateRollingSum-55_59       115027 non-null  int64         \n",
      " 59  newCasesBySpecimenDateRollingSum-5_9         115027 non-null  int64         \n",
      " 60  newCasesBySpecimenDateRollingSum-60+         115027 non-null  int64         \n",
      " 61  newCasesBySpecimenDateRollingSum-60_64       115027 non-null  int64         \n",
      " 62  newCasesBySpecimenDateRollingSum-65_69       115027 non-null  int64         \n",
      " 63  newCasesBySpecimenDateRollingSum-70_74       115027 non-null  int64         \n",
      " 64  newCasesBySpecimenDateRollingSum-75_79       115027 non-null  int64         \n",
      " 65  newCasesBySpecimenDateRollingSum-80_84       115027 non-null  int64         \n",
      " 66  newCasesBySpecimenDateRollingSum-85_89       115027 non-null  int64         \n",
      " 67  newCasesBySpecimenDateRollingSum-90+         115027 non-null  int64         \n",
      " 68  newCasesBySpecimenDateRollingSum-unassigned  115027 non-null  int64         \n",
      "dtypes: datetime64[ns](1), float64(21), int64(44), object(3)\n",
      "memory usage: 60.6+ MB\n"
     ]
    }
   ],
   "source": [
    "df.info()"
   ]
  },
  {
   "cell_type": "markdown",
   "id": "161a5169",
   "metadata": {},
   "source": [
    "# Questions\n",
    "1. Total number of cases reported each day over a given date range\n",
    "2. Total number of cases reported each week over a given date range\n",
    "3. Total number of cases reported each month over a given date range\n",
    "4. Areas with the highest number of cases on a given day\n",
    "5. Areas with the largest positive change of cases for a given 7 day period"
   ]
  },
  {
   "cell_type": "code",
   "execution_count": null,
   "id": "b9aaaff8",
   "metadata": {},
   "outputs": [],
   "source": [
    "#Finding the shape of the dataframe"
   ]
  },
  {
   "cell_type": "code",
   "execution_count": 14,
   "id": "202df36d",
   "metadata": {},
   "outputs": [
    {
     "data": {
      "text/plain": [
       "(115027, 69)"
      ]
     },
     "execution_count": 14,
     "metadata": {},
     "output_type": "execute_result"
    }
   ],
   "source": [
    "df.shape"
   ]
  },
  {
   "cell_type": "code",
   "execution_count": 15,
   "id": "9fc9b29a",
   "metadata": {},
   "outputs": [],
   "source": [
    "#Creating new columns from our exisitng columns for covid-19 cases\n",
    "#Age classification was inspired from the '5 age grouping' by WHO"
   ]
  },
  {
   "cell_type": "code",
   "execution_count": null,
   "id": "8bbd8771",
   "metadata": {},
   "outputs": [],
   "source": [
    "#creating the child column"
   ]
  },
  {
   "cell_type": "code",
   "execution_count": 28,
   "id": "1bd8a672",
   "metadata": {},
   "outputs": [],
   "source": [
    "df['child'] = df[\"newCasesBySpecimenDate-0_4\"] + df['newCasesBySpecimenDateRollingSum-5_9']"
   ]
  },
  {
   "cell_type": "code",
   "execution_count": 16,
   "id": "b6a7bb69",
   "metadata": {},
   "outputs": [],
   "source": [
    "#creating the teen column"
   ]
  },
  {
   "cell_type": "code",
   "execution_count": 29,
   "id": "f0f34308",
   "metadata": {},
   "outputs": [],
   "source": [
    "df['Teen'] = df['newCasesBySpecimenDate-10_14'] + df['newCasesBySpecimenDate-15_19']"
   ]
  },
  {
   "cell_type": "code",
   "execution_count": 18,
   "id": "e4750c47",
   "metadata": {},
   "outputs": [],
   "source": [
    "#creating the young column"
   ]
  },
  {
   "cell_type": "code",
   "execution_count": 30,
   "id": "b2a5345b",
   "metadata": {},
   "outputs": [],
   "source": [
    "df['young'] = df['newCasesBySpecimenDate-15_19'] + df['newCasesBySpecimenDate-20_24']"
   ]
  },
  {
   "cell_type": "code",
   "execution_count": 20,
   "id": "6e2f5cda",
   "metadata": {},
   "outputs": [],
   "source": [
    "#creating the adult column"
   ]
  },
  {
   "cell_type": "code",
   "execution_count": 31,
   "id": "0817bb57",
   "metadata": {},
   "outputs": [],
   "source": [
    "df['adult'] = df['newCasesBySpecimenDate-25_29'] + df['newCasesBySpecimenDate-0_59']"
   ]
  },
  {
   "cell_type": "code",
   "execution_count": 22,
   "id": "0d3ee87c",
   "metadata": {},
   "outputs": [],
   "source": [
    "#creating the aged column"
   ]
  },
  {
   "cell_type": "code",
   "execution_count": 32,
   "id": "28533312",
   "metadata": {},
   "outputs": [],
   "source": [
    "df['aged'] = df['newCasesBySpecimenDateRollingSum-60_64'] +  df['newCasesBySpecimenDateRollingSum-65_69'] + df['newCasesBySpecimenDateRollingSum-70_74'] +df['newCasesBySpecimenDateRollingSum-75_79'] +df['newCasesBySpecimenDateRollingSum-80_84'] +df['newCasesBySpecimenDateRollingSum-85_89'] +df['newCasesBySpecimenDateRollingSum-90+']"
   ]
  },
  {
   "cell_type": "code",
   "execution_count": 24,
   "id": "fcbbbdf8",
   "metadata": {},
   "outputs": [],
   "source": [
    "#creating the unknown column"
   ]
  },
  {
   "cell_type": "code",
   "execution_count": 33,
   "id": "60bc1311",
   "metadata": {},
   "outputs": [],
   "source": [
    "df['unknown'] = df['newCasesBySpecimenDateRollingSum-unassigned']"
   ]
  },
  {
   "cell_type": "code",
   "execution_count": 26,
   "id": "8af06b5b",
   "metadata": {},
   "outputs": [],
   "source": [
    "#creating a new data_frame "
   ]
  },
  {
   "cell_type": "code",
   "execution_count": 66,
   "id": "574300b9",
   "metadata": {},
   "outputs": [],
   "source": [
    "df_new = df[['areaType','areaName', 'date', 'child', 'Teen','young','adult', 'aged', 'unknown']]"
   ]
  },
  {
   "cell_type": "code",
   "execution_count": 67,
   "id": "d81f34b3",
   "metadata": {},
   "outputs": [
    {
     "data": {
      "text/html": [
       "<div>\n",
       "<style scoped>\n",
       "    .dataframe tbody tr th:only-of-type {\n",
       "        vertical-align: middle;\n",
       "    }\n",
       "\n",
       "    .dataframe tbody tr th {\n",
       "        vertical-align: top;\n",
       "    }\n",
       "\n",
       "    .dataframe thead th {\n",
       "        text-align: right;\n",
       "    }\n",
       "</style>\n",
       "<table border=\"1\" class=\"dataframe\">\n",
       "  <thead>\n",
       "    <tr style=\"text-align: right;\">\n",
       "      <th></th>\n",
       "      <th>areaType</th>\n",
       "      <th>areaName</th>\n",
       "      <th>date</th>\n",
       "      <th>child</th>\n",
       "      <th>Teen</th>\n",
       "      <th>young</th>\n",
       "      <th>adult</th>\n",
       "      <th>aged</th>\n",
       "      <th>unknown</th>\n",
       "    </tr>\n",
       "  </thead>\n",
       "  <tbody>\n",
       "    <tr>\n",
       "      <th>0</th>\n",
       "      <td>ltla</td>\n",
       "      <td>Hartlepool</td>\n",
       "      <td>2020-03-16</td>\n",
       "      <td>0</td>\n",
       "      <td>0</td>\n",
       "      <td>0</td>\n",
       "      <td>0</td>\n",
       "      <td>0</td>\n",
       "      <td>0</td>\n",
       "    </tr>\n",
       "    <tr>\n",
       "      <th>1</th>\n",
       "      <td>ltla</td>\n",
       "      <td>Hartlepool</td>\n",
       "      <td>2020-03-17</td>\n",
       "      <td>0</td>\n",
       "      <td>0</td>\n",
       "      <td>0</td>\n",
       "      <td>0</td>\n",
       "      <td>0</td>\n",
       "      <td>0</td>\n",
       "    </tr>\n",
       "    <tr>\n",
       "      <th>2</th>\n",
       "      <td>ltla</td>\n",
       "      <td>Hartlepool</td>\n",
       "      <td>2020-03-18</td>\n",
       "      <td>0</td>\n",
       "      <td>0</td>\n",
       "      <td>0</td>\n",
       "      <td>0</td>\n",
       "      <td>0</td>\n",
       "      <td>0</td>\n",
       "    </tr>\n",
       "    <tr>\n",
       "      <th>3</th>\n",
       "      <td>ltla</td>\n",
       "      <td>Hartlepool</td>\n",
       "      <td>2020-03-19</td>\n",
       "      <td>0</td>\n",
       "      <td>0</td>\n",
       "      <td>0</td>\n",
       "      <td>0</td>\n",
       "      <td>0</td>\n",
       "      <td>0</td>\n",
       "    </tr>\n",
       "    <tr>\n",
       "      <th>4</th>\n",
       "      <td>ltla</td>\n",
       "      <td>Hartlepool</td>\n",
       "      <td>2020-03-20</td>\n",
       "      <td>0</td>\n",
       "      <td>0</td>\n",
       "      <td>0</td>\n",
       "      <td>0</td>\n",
       "      <td>0</td>\n",
       "      <td>0</td>\n",
       "    </tr>\n",
       "  </tbody>\n",
       "</table>\n",
       "</div>"
      ],
      "text/plain": [
       "  areaType    areaName       date  child  Teen  young  adult  aged  unknown\n",
       "0     ltla  Hartlepool 2020-03-16      0     0      0      0     0        0\n",
       "1     ltla  Hartlepool 2020-03-17      0     0      0      0     0        0\n",
       "2     ltla  Hartlepool 2020-03-18      0     0      0      0     0        0\n",
       "3     ltla  Hartlepool 2020-03-19      0     0      0      0     0        0\n",
       "4     ltla  Hartlepool 2020-03-20      0     0      0      0     0        0"
      ]
     },
     "execution_count": 67,
     "metadata": {},
     "output_type": "execute_result"
    }
   ],
   "source": [
    "df_new.head()"
   ]
  },
  {
   "cell_type": "code",
   "execution_count": 36,
   "id": "4568c4aa",
   "metadata": {},
   "outputs": [],
   "source": [
    "#Setting the 'date' column as the index of the column"
   ]
  },
  {
   "cell_type": "code",
   "execution_count": 68,
   "id": "08efac06",
   "metadata": {},
   "outputs": [],
   "source": [
    "df_new = df_new.set_index('date')"
   ]
  },
  {
   "cell_type": "code",
   "execution_count": 69,
   "id": "5725cf44",
   "metadata": {},
   "outputs": [
    {
     "data": {
      "text/html": [
       "<div>\n",
       "<style scoped>\n",
       "    .dataframe tbody tr th:only-of-type {\n",
       "        vertical-align: middle;\n",
       "    }\n",
       "\n",
       "    .dataframe tbody tr th {\n",
       "        vertical-align: top;\n",
       "    }\n",
       "\n",
       "    .dataframe thead th {\n",
       "        text-align: right;\n",
       "    }\n",
       "</style>\n",
       "<table border=\"1\" class=\"dataframe\">\n",
       "  <thead>\n",
       "    <tr style=\"text-align: right;\">\n",
       "      <th></th>\n",
       "      <th>areaType</th>\n",
       "      <th>areaName</th>\n",
       "      <th>child</th>\n",
       "      <th>Teen</th>\n",
       "      <th>young</th>\n",
       "      <th>adult</th>\n",
       "      <th>aged</th>\n",
       "      <th>unknown</th>\n",
       "    </tr>\n",
       "    <tr>\n",
       "      <th>date</th>\n",
       "      <th></th>\n",
       "      <th></th>\n",
       "      <th></th>\n",
       "      <th></th>\n",
       "      <th></th>\n",
       "      <th></th>\n",
       "      <th></th>\n",
       "      <th></th>\n",
       "    </tr>\n",
       "  </thead>\n",
       "  <tbody>\n",
       "    <tr>\n",
       "      <th>2020-03-16</th>\n",
       "      <td>ltla</td>\n",
       "      <td>Hartlepool</td>\n",
       "      <td>0</td>\n",
       "      <td>0</td>\n",
       "      <td>0</td>\n",
       "      <td>0</td>\n",
       "      <td>0</td>\n",
       "      <td>0</td>\n",
       "    </tr>\n",
       "    <tr>\n",
       "      <th>2020-03-17</th>\n",
       "      <td>ltla</td>\n",
       "      <td>Hartlepool</td>\n",
       "      <td>0</td>\n",
       "      <td>0</td>\n",
       "      <td>0</td>\n",
       "      <td>0</td>\n",
       "      <td>0</td>\n",
       "      <td>0</td>\n",
       "    </tr>\n",
       "    <tr>\n",
       "      <th>2020-03-18</th>\n",
       "      <td>ltla</td>\n",
       "      <td>Hartlepool</td>\n",
       "      <td>0</td>\n",
       "      <td>0</td>\n",
       "      <td>0</td>\n",
       "      <td>0</td>\n",
       "      <td>0</td>\n",
       "      <td>0</td>\n",
       "    </tr>\n",
       "    <tr>\n",
       "      <th>2020-03-19</th>\n",
       "      <td>ltla</td>\n",
       "      <td>Hartlepool</td>\n",
       "      <td>0</td>\n",
       "      <td>0</td>\n",
       "      <td>0</td>\n",
       "      <td>0</td>\n",
       "      <td>0</td>\n",
       "      <td>0</td>\n",
       "    </tr>\n",
       "    <tr>\n",
       "      <th>2020-03-20</th>\n",
       "      <td>ltla</td>\n",
       "      <td>Hartlepool</td>\n",
       "      <td>0</td>\n",
       "      <td>0</td>\n",
       "      <td>0</td>\n",
       "      <td>0</td>\n",
       "      <td>0</td>\n",
       "      <td>0</td>\n",
       "    </tr>\n",
       "  </tbody>\n",
       "</table>\n",
       "</div>"
      ],
      "text/plain": [
       "           areaType    areaName  child  Teen  young  adult  aged  unknown\n",
       "date                                                                     \n",
       "2020-03-16     ltla  Hartlepool      0     0      0      0     0        0\n",
       "2020-03-17     ltla  Hartlepool      0     0      0      0     0        0\n",
       "2020-03-18     ltla  Hartlepool      0     0      0      0     0        0\n",
       "2020-03-19     ltla  Hartlepool      0     0      0      0     0        0\n",
       "2020-03-20     ltla  Hartlepool      0     0      0      0     0        0"
      ]
     },
     "execution_count": 69,
     "metadata": {},
     "output_type": "execute_result"
    }
   ],
   "source": [
    "df_new.head()"
   ]
  },
  {
   "cell_type": "code",
   "execution_count": 39,
   "id": "2aee0133",
   "metadata": {},
   "outputs": [],
   "source": [
    "#Total number of cases reported each day over a given date range\n",
    "#Total number of cases reported each week over a given date range\n",
    "#Total number of cases reported each month over a given date range"
   ]
  },
  {
   "cell_type": "code",
   "execution_count": 40,
   "id": "6ce96b61",
   "metadata": {},
   "outputs": [],
   "source": [
    "#Let's find the total number of cases reported quaterly"
   ]
  },
  {
   "cell_type": "code",
   "execution_count": 70,
   "id": "1cfb9b63",
   "metadata": {},
   "outputs": [],
   "source": [
    "df1 = df_new.drop(['areaType','areaName'],axis=1,inplace=False)"
   ]
  },
  {
   "cell_type": "code",
   "execution_count": 73,
   "id": "c62fd425",
   "metadata": {},
   "outputs": [
    {
     "data": {
      "text/html": [
       "<div>\n",
       "<style scoped>\n",
       "    .dataframe tbody tr th:only-of-type {\n",
       "        vertical-align: middle;\n",
       "    }\n",
       "\n",
       "    .dataframe tbody tr th {\n",
       "        vertical-align: top;\n",
       "    }\n",
       "\n",
       "    .dataframe thead th {\n",
       "        text-align: right;\n",
       "    }\n",
       "</style>\n",
       "<table border=\"1\" class=\"dataframe\">\n",
       "  <thead>\n",
       "    <tr style=\"text-align: right;\">\n",
       "      <th></th>\n",
       "      <th>child</th>\n",
       "      <th>Teen</th>\n",
       "      <th>young</th>\n",
       "      <th>adult</th>\n",
       "      <th>aged</th>\n",
       "      <th>unknown</th>\n",
       "    </tr>\n",
       "    <tr>\n",
       "      <th>date</th>\n",
       "      <th></th>\n",
       "      <th></th>\n",
       "      <th></th>\n",
       "      <th></th>\n",
       "      <th></th>\n",
       "      <th></th>\n",
       "    </tr>\n",
       "  </thead>\n",
       "  <tbody>\n",
       "    <tr>\n",
       "      <th>2020-03-16</th>\n",
       "      <td>0</td>\n",
       "      <td>0</td>\n",
       "      <td>0</td>\n",
       "      <td>0</td>\n",
       "      <td>0</td>\n",
       "      <td>0</td>\n",
       "    </tr>\n",
       "    <tr>\n",
       "      <th>2020-03-17</th>\n",
       "      <td>0</td>\n",
       "      <td>0</td>\n",
       "      <td>0</td>\n",
       "      <td>0</td>\n",
       "      <td>0</td>\n",
       "      <td>0</td>\n",
       "    </tr>\n",
       "    <tr>\n",
       "      <th>2020-03-18</th>\n",
       "      <td>0</td>\n",
       "      <td>0</td>\n",
       "      <td>0</td>\n",
       "      <td>0</td>\n",
       "      <td>0</td>\n",
       "      <td>0</td>\n",
       "    </tr>\n",
       "    <tr>\n",
       "      <th>2020-03-19</th>\n",
       "      <td>0</td>\n",
       "      <td>0</td>\n",
       "      <td>0</td>\n",
       "      <td>0</td>\n",
       "      <td>0</td>\n",
       "      <td>0</td>\n",
       "    </tr>\n",
       "    <tr>\n",
       "      <th>2020-03-20</th>\n",
       "      <td>0</td>\n",
       "      <td>0</td>\n",
       "      <td>0</td>\n",
       "      <td>0</td>\n",
       "      <td>0</td>\n",
       "      <td>0</td>\n",
       "    </tr>\n",
       "  </tbody>\n",
       "</table>\n",
       "</div>"
      ],
      "text/plain": [
       "            child  Teen  young  adult  aged  unknown\n",
       "date                                                \n",
       "2020-03-16      0     0      0      0     0        0\n",
       "2020-03-17      0     0      0      0     0        0\n",
       "2020-03-18      0     0      0      0     0        0\n",
       "2020-03-19      0     0      0      0     0        0\n",
       "2020-03-20      0     0      0      0     0        0"
      ]
     },
     "execution_count": 73,
     "metadata": {},
     "output_type": "execute_result"
    }
   ],
   "source": [
    "df1.head()"
   ]
  },
  {
   "cell_type": "code",
   "execution_count": 108,
   "id": "d13a3b41",
   "metadata": {},
   "outputs": [
    {
     "data": {
      "text/plain": [
       "550350"
      ]
     },
     "execution_count": 108,
     "metadata": {},
     "output_type": "execute_result"
    }
   ],
   "source": [
    "q1 = sum(df1['2020-01-01': '2020-03-31'].sum())\n",
    "q1"
   ]
  },
  {
   "cell_type": "code",
   "execution_count": 107,
   "id": "6afc2616",
   "metadata": {},
   "outputs": [
    {
     "data": {
      "text/plain": [
       "3947670"
      ]
     },
     "execution_count": 107,
     "metadata": {},
     "output_type": "execute_result"
    }
   ],
   "source": [
    "q2 = sum(df1['2020-04-01': '2020-06-30'].sum())\n",
    "q2"
   ]
  },
  {
   "cell_type": "code",
   "execution_count": 106,
   "id": "1a41f81d",
   "metadata": {},
   "outputs": [
    {
     "data": {
      "text/plain": [
       "2095758"
      ]
     },
     "execution_count": 106,
     "metadata": {},
     "output_type": "execute_result"
    }
   ],
   "source": [
    "q3 = sum(df1['2020-07-01': '2020-09-30'].sum())\n",
    "q3"
   ]
  },
  {
   "cell_type": "code",
   "execution_count": 105,
   "id": "01b92270",
   "metadata": {},
   "outputs": [
    {
     "data": {
      "text/plain": [
       "6070668"
      ]
     },
     "execution_count": 105,
     "metadata": {},
     "output_type": "execute_result"
    }
   ],
   "source": [
    "q4 = sum(df1['2020-10-01': '2020-12-30'].sum())\n",
    "q4"
   ]
  },
  {
   "cell_type": "code",
   "execution_count": 104,
   "id": "7da5834d",
   "metadata": {},
   "outputs": [],
   "source": [
    "#Creating a dataframe from the quarterly results"
   ]
  },
  {
   "cell_type": "code",
   "execution_count": 109,
   "id": "52366823",
   "metadata": {},
   "outputs": [],
   "source": [
    "data = [['q1', 550350], ['q2', 3947670], ['q3', 2095758], ['q4',6070668]]"
   ]
  },
  {
   "cell_type": "code",
   "execution_count": 130,
   "id": "16ddfa40",
   "metadata": {},
   "outputs": [
    {
     "data": {
      "text/html": [
       "<div>\n",
       "<style scoped>\n",
       "    .dataframe tbody tr th:only-of-type {\n",
       "        vertical-align: middle;\n",
       "    }\n",
       "\n",
       "    .dataframe tbody tr th {\n",
       "        vertical-align: top;\n",
       "    }\n",
       "\n",
       "    .dataframe thead th {\n",
       "        text-align: right;\n",
       "    }\n",
       "</style>\n",
       "<table border=\"1\" class=\"dataframe\">\n",
       "  <thead>\n",
       "    <tr style=\"text-align: right;\">\n",
       "      <th></th>\n",
       "      <th>quater</th>\n",
       "      <th>result</th>\n",
       "    </tr>\n",
       "  </thead>\n",
       "  <tbody>\n",
       "    <tr>\n",
       "      <th>0</th>\n",
       "      <td>q1</td>\n",
       "      <td>550350</td>\n",
       "    </tr>\n",
       "    <tr>\n",
       "      <th>1</th>\n",
       "      <td>q2</td>\n",
       "      <td>3947670</td>\n",
       "    </tr>\n",
       "    <tr>\n",
       "      <th>2</th>\n",
       "      <td>q3</td>\n",
       "      <td>2095758</td>\n",
       "    </tr>\n",
       "    <tr>\n",
       "      <th>3</th>\n",
       "      <td>q4</td>\n",
       "      <td>6070668</td>\n",
       "    </tr>\n",
       "  </tbody>\n",
       "</table>\n",
       "</div>"
      ],
      "text/plain": [
       "  quater   result\n",
       "0     q1   550350\n",
       "1     q2  3947670\n",
       "2     q3  2095758\n",
       "3     q4  6070668"
      ]
     },
     "execution_count": 130,
     "metadata": {},
     "output_type": "execute_result"
    }
   ],
   "source": [
    "quaterly_result = pd.DataFrame(data, columns = ['quater','result'])\n",
    "quaterly_result"
   ]
  },
  {
   "cell_type": "code",
   "execution_count": 125,
   "id": "6bfc2560",
   "metadata": {},
   "outputs": [],
   "source": [
    "#Setting the column 'quater' as index of the dataframe"
   ]
  },
  {
   "cell_type": "code",
   "execution_count": 137,
   "id": "0a015236",
   "metadata": {},
   "outputs": [
    {
     "data": {
      "text/html": [
       "<div>\n",
       "<style scoped>\n",
       "    .dataframe tbody tr th:only-of-type {\n",
       "        vertical-align: middle;\n",
       "    }\n",
       "\n",
       "    .dataframe tbody tr th {\n",
       "        vertical-align: top;\n",
       "    }\n",
       "\n",
       "    .dataframe thead th {\n",
       "        text-align: right;\n",
       "    }\n",
       "</style>\n",
       "<table border=\"1\" class=\"dataframe\">\n",
       "  <thead>\n",
       "    <tr style=\"text-align: right;\">\n",
       "      <th></th>\n",
       "      <th>result</th>\n",
       "    </tr>\n",
       "    <tr>\n",
       "      <th>quater</th>\n",
       "      <th></th>\n",
       "    </tr>\n",
       "  </thead>\n",
       "  <tbody>\n",
       "    <tr>\n",
       "      <th>q1</th>\n",
       "      <td>550350</td>\n",
       "    </tr>\n",
       "    <tr>\n",
       "      <th>q2</th>\n",
       "      <td>3947670</td>\n",
       "    </tr>\n",
       "    <tr>\n",
       "      <th>q3</th>\n",
       "      <td>2095758</td>\n",
       "    </tr>\n",
       "    <tr>\n",
       "      <th>q4</th>\n",
       "      <td>6070668</td>\n",
       "    </tr>\n",
       "  </tbody>\n",
       "</table>\n",
       "</div>"
      ],
      "text/plain": [
       "         result\n",
       "quater         \n",
       "q1       550350\n",
       "q2      3947670\n",
       "q3      2095758\n",
       "q4      6070668"
      ]
     },
     "execution_count": 137,
     "metadata": {},
     "output_type": "execute_result"
    }
   ],
   "source": [
    "new_index = quaterly_result.set_index('quater')\n",
    "new_index"
   ]
  },
  {
   "cell_type": "code",
   "execution_count": 192,
   "id": "a7295bb4",
   "metadata": {},
   "outputs": [
    {
     "data": {
      "text/plain": [
       "Text(0.5, 1.0, 'QUATERLY CASES')"
      ]
     },
     "execution_count": 192,
     "metadata": {},
     "output_type": "execute_result"
    },
    {
     "data": {
      "text/plain": [
       "<Figure size 720x360 with 0 Axes>"
      ]
     },
     "metadata": {},
     "output_type": "display_data"
    },
    {
     "data": {
      "image/png": "[encoded data removed]",
      "text/plain": [
       "<Figure size 432x288 with 1 Axes>"
      ]
     },
     "metadata": {
      "needs_background": "light"
     },
     "output_type": "display_data"
    }
   ],
   "source": [
    "plt.figure(figsize=(10,5))\n",
    "new_index.plot(kind='bar')\n",
    "plt.title('QUATERLY CASES') "
   ]
  },
  {
   "cell_type": "code",
   "execution_count": 83,
   "id": "76ed4790",
   "metadata": {},
   "outputs": [],
   "source": [
    "#Areas with the highest number of cases on a given day\n",
    "#First we group by 'date'\n",
    "#Choosing the quarter with the highest cases recorded = q4"
   ]
  },
  {
   "cell_type": "code",
   "execution_count": 87,
   "id": "a7aa3e2e",
   "metadata": {},
   "outputs": [],
   "source": [
    "date_group = df_new.groupby('date')"
   ]
  },
  {
   "cell_type": "code",
   "execution_count": 93,
   "id": "72975c70",
   "metadata": {},
   "outputs": [
    {
     "data": {
      "text/html": [
       "<div>\n",
       "<style scoped>\n",
       "    .dataframe tbody tr th:only-of-type {\n",
       "        vertical-align: middle;\n",
       "    }\n",
       "\n",
       "    .dataframe tbody tr th {\n",
       "        vertical-align: top;\n",
       "    }\n",
       "\n",
       "    .dataframe thead th {\n",
       "        text-align: right;\n",
       "    }\n",
       "</style>\n",
       "<table border=\"1\" class=\"dataframe\">\n",
       "  <thead>\n",
       "    <tr style=\"text-align: right;\">\n",
       "      <th></th>\n",
       "      <th>areaType</th>\n",
       "      <th>areaName</th>\n",
       "      <th>child</th>\n",
       "      <th>Teen</th>\n",
       "      <th>young</th>\n",
       "      <th>adult</th>\n",
       "      <th>aged</th>\n",
       "      <th>unknown</th>\n",
       "    </tr>\n",
       "    <tr>\n",
       "      <th>date</th>\n",
       "      <th></th>\n",
       "      <th></th>\n",
       "      <th></th>\n",
       "      <th></th>\n",
       "      <th></th>\n",
       "      <th></th>\n",
       "      <th></th>\n",
       "      <th></th>\n",
       "    </tr>\n",
       "  </thead>\n",
       "  <tbody>\n",
       "    <tr>\n",
       "      <th>2020-01-30</th>\n",
       "      <td>ltla</td>\n",
       "      <td>York</td>\n",
       "      <td>0</td>\n",
       "      <td>0</td>\n",
       "      <td>1</td>\n",
       "      <td>1</td>\n",
       "      <td>0</td>\n",
       "      <td>0</td>\n",
       "    </tr>\n",
       "    <tr>\n",
       "      <th>2020-01-31</th>\n",
       "      <td>ltla</td>\n",
       "      <td>York</td>\n",
       "      <td>0</td>\n",
       "      <td>0</td>\n",
       "      <td>0</td>\n",
       "      <td>0</td>\n",
       "      <td>0</td>\n",
       "      <td>0</td>\n",
       "    </tr>\n",
       "    <tr>\n",
       "      <th>2020-02-01</th>\n",
       "      <td>ltla</td>\n",
       "      <td>York</td>\n",
       "      <td>0</td>\n",
       "      <td>0</td>\n",
       "      <td>0</td>\n",
       "      <td>0</td>\n",
       "      <td>0</td>\n",
       "      <td>0</td>\n",
       "    </tr>\n",
       "    <tr>\n",
       "      <th>2020-02-02</th>\n",
       "      <td>ltla</td>\n",
       "      <td>York</td>\n",
       "      <td>0</td>\n",
       "      <td>0</td>\n",
       "      <td>0</td>\n",
       "      <td>0</td>\n",
       "      <td>0</td>\n",
       "      <td>0</td>\n",
       "    </tr>\n",
       "    <tr>\n",
       "      <th>2020-02-03</th>\n",
       "      <td>ltla</td>\n",
       "      <td>York</td>\n",
       "      <td>0</td>\n",
       "      <td>0</td>\n",
       "      <td>0</td>\n",
       "      <td>0</td>\n",
       "      <td>0</td>\n",
       "      <td>0</td>\n",
       "    </tr>\n",
       "  </tbody>\n",
       "</table>\n",
       "</div>"
      ],
      "text/plain": [
       "           areaType areaName  child  Teen  young  adult  aged  unknown\n",
       "date                                                                  \n",
       "2020-01-30     ltla     York      0     0      1      1     0        0\n",
       "2020-01-31     ltla     York      0     0      0      0     0        0\n",
       "2020-02-01     ltla     York      0     0      0      0     0        0\n",
       "2020-02-02     ltla     York      0     0      0      0     0        0\n",
       "2020-02-03     ltla     York      0     0      0      0     0        0"
      ]
     },
     "execution_count": 93,
     "metadata": {},
     "output_type": "execute_result"
    }
   ],
   "source": [
    "date_group.first().head()"
   ]
  },
  {
   "cell_type": "code",
   "execution_count": 218,
   "id": "8d11a280",
   "metadata": {},
   "outputs": [
    {
     "data": {
      "text/plain": [
       "'Yorkshire and The Humber'"
      ]
     },
     "execution_count": 218,
     "metadata": {},
     "output_type": "execute_result"
    }
   ],
   "source": [
    "date_group.get_group('2020-11')['areaName'].max()"
   ]
  },
  {
   "cell_type": "code",
   "execution_count": null,
   "id": "6ef3f183",
   "metadata": {},
   "outputs": [],
   "source": []
  },
  {
   "cell_type": "markdown",
   "id": "a034e91d",
   "metadata": {},
   "source": [
    "# Results from Analysis"
   ]
  },
  {
   "cell_type": "markdown",
   "id": "5a8e5d4f",
   "metadata": {},
   "source": [
    "* The highest cases were recorded from October 1st 2020 - December 30th 2020(q4)\n",
    "*\n",
    "*\n",
    "*"
   ]
  },
  {
   "cell_type": "code",
   "execution_count": null,
   "id": "c4b5872f",
   "metadata": {},
   "outputs": [],
   "source": []
  }
 ],
 "metadata": {
  "kernelspec": {
   "display_name": "Python 3 (ipykernel)",
   "language": "python",
   "name": "python3"
  },
  "language_info": {
   "codemirror_mode": {
    "name": "ipython",
    "version": 3
   },
   "file_extension": ".py",
   "mimetype": "text/x-python",
   "name": "python",
   "nbconvert_exporter": "python",
   "pygments_lexer": "ipython3",
   "version": "3.10.0"
  }
 },
 "nbformat": 4,
 "nbformat_minor": 5
}
